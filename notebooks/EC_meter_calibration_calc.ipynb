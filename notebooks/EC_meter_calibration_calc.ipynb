{
 "cells": [
  {
   "cell_type": "markdown",
   "id": "cfc80a21",
   "metadata": {},
   "source": [
    "# EC meter calibration calculation\n",
    "This runs through the maths to be assist in developing calibration function for the water level feature of the EC meter.\n",
    "Will still need to do practical testing to verify the calculations."
   ]
  },
  {
   "cell_type": "code",
   "execution_count": 1,
   "id": "0521cf09",
   "metadata": {},
   "outputs": [],
   "source": [
    "import sympy\n",
    "\n",
    "# Define the variables\n",
    "Lfull = sympy.Symbol('Lfull')               # Minimum diameter between the electrodes\n",
    "Lempty = sympy.Symbol('Lempty')             # Maximum diameter between the electrodes\n",
    "R1 = sympy.Symbol('R1')                     # Resistance of R1 in the voltage divider\n",
    "Rwater = sympy.Symbol('Rwater')                   # Resistance of the water\n",
    "Vin = sympy.Symbol('Vin')                   # Input voltage to the voltage divider\n",
    "Lelectrode = sympy.Symbol('Lelectrode')     # Length of the electrode\n",
    "Delectrode = sympy.Symbol('Delectrode')     # Diameter of the electrode\n",
    "\n",
    "EC_reading = sympy.Symbol('EC_reading')     # The reading from the EC meter\n",
    "\n",
    "water_level = sympy.Symbol('water_level')  # The water level in the tank\n",
    "current_water_level = sympy.Symbol('current_water_level')  # The current water level in the tank\n",
    "\n"
   ]
  },
  {
   "cell_type": "markdown",
   "id": "d7161855",
   "metadata": {},
   "source": [
    "The following is from https://en.wikipedia.org/wiki/Electrical_resistivity_and_conductivity"
   ]
  },
  {
   "cell_type": "code",
   "execution_count": 2,
   "id": "de17ea19",
   "metadata": {},
   "outputs": [
    {
     "name": "stdout",
     "output_type": "stream",
     "text": [
      "Resistivity: Delectrode*Lelectrode*Rwater*water_level/(Lempty + (Lempty - Lfull)*(water_level + 1)/2)\n",
      "Conductivity: (Lempty + (Lempty - Lfull)*(water_level + 1)/2)/(Delectrode*Lelectrode*Rwater*water_level)\n",
      "Current water level resistivity: Delectrode*Lelectrode*Rwater*current_water_level/(Lempty + (Lempty - Lfull)*(current_water_level + 1)/2)\n",
      "Empty resistivity: 0.005*Delectrode*Lelectrode*Rwater/(1.5025*Lempty - 0.5025*Lfull)\n"
     ]
    }
   ],
   "source": [
    "# Rfull = (water_level* Lfull + (1-water_level)*Lempty) / EC_reading\n",
    "\n",
    "electrode_cross_sectional_area = Delectrode * (Lelectrode * water_level)\n",
    "\n",
    "average_electrode_length = (Lempty) + (water_level + 1)*(Lempty - Lfull) / 2\n",
    "\n",
    "Resistivity = Rwater * electrode_cross_sectional_area / average_electrode_length # ohm-meters\n",
    "Conductivity = 1 / Resistivity # seimens/m\n",
    "\n",
    "print (\"Resistivity:\", Resistivity)\n",
    "\n",
    "print (\"Conductivity:\", Conductivity)\n",
    "\n",
    "current_water_level_resistivity = Resistivity.subs(water_level, current_water_level)\n",
    "\n",
    "empty_resistivity = Resistivity.subs(water_level, 0.005)  # Assuming a small water level for empty condition\n",
    "\n",
    "print (\"Current water level resistivity:\", current_water_level_resistivity)\n",
    "print (\"Empty resistivity:\", empty_resistivity)"
   ]
  }
 ],
 "metadata": {
  "kernelspec": {
   "display_name": "Python 3",
   "language": "python",
   "name": "python3"
  },
  "language_info": {
   "codemirror_mode": {
    "name": "ipython",
    "version": 3
   },
   "file_extension": ".py",
   "mimetype": "text/x-python",
   "name": "python",
   "nbconvert_exporter": "python",
   "pygments_lexer": "ipython3",
   "version": "3.11.9"
  }
 },
 "nbformat": 4,
 "nbformat_minor": 5
}
